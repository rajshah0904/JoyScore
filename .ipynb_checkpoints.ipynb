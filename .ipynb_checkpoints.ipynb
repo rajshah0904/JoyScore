{
 "cells": [
  {
   "cell_type": "code",
   "execution_count": 1,
   "id": "7fa060e3",
   "metadata": {},
   "outputs": [],
   "source": [
    "#pip install google-cloud-vision\\\n",
    "#pip install opencv-python"
   ]
  },
  {
   "cell_type": "code",
   "execution_count": 24,
   "id": "a8295a17",
   "metadata": {},
   "outputs": [],
   "source": [
    "import os\n",
    "import io\n",
    "import ipywidgets \n",
    "\n",
    "from IPython.display import HTML, display, clear_output\n",
    "from ipywidgets import Layout, Button, Box, FloatText, Textarea, Dropdown, Label, IntSlider\n",
    "\n",
    "from google.cloud import vision\n",
    "from google.cloud.vision_v1 import types\n",
    "import http.client\n",
    "warnings.filterwarnings(\"ignore\")"
   ]
  },
  {
   "cell_type": "code",
   "execution_count": 3,
   "id": "87408c67",
   "metadata": {},
   "outputs": [],
   "source": [
    "#!jupyter nbextension enable --py widgetsnbextension --sys-prefix\n",
    "#!jupyter serverextension enable voila --sys-prefix"
   ]
  },
  {
   "cell_type": "code",
   "execution_count": 4,
   "id": "ca87e303",
   "metadata": {},
   "outputs": [],
   "source": [
    "os.environ['GOOGLE_APPLICATION_CREDENTIALS'] = 'tcnjhack-351c09114ab7.json'"
   ]
  },
  {
   "cell_type": "code",
   "execution_count": 5,
   "id": "40c5bc80",
   "metadata": {},
   "outputs": [],
   "source": [
    "client = vision.ImageAnnotatorClient()"
   ]
  },
  {
   "cell_type": "code",
   "execution_count": 6,
   "id": "59eefea5",
   "metadata": {},
   "outputs": [],
   "source": [
    "label_headline = ipywidgets.Label(\n",
    "                value='Created by Nishk, Raj, Tanush, Arnav',\n",
    "                style={'description_width': 'initial'}\n",
    "                )\n",
    "\n",
    "\n",
    "    \n",
    "vbox_headline = ipywidgets.VBox([label_headline])\n",
    "\n",
    "output = ipywidgets.Output()\n",
    "\n",
    "text_0 = ipywidgets.HTML(value=\"<h1><Strong>Stalker API</Strong></h1>\")\n",
    "text_1 = ipywidgets.HTML(value=\"<h2>We will determine your emotion</h2>\")\n",
    "\n",
    "\n",
    "\n",
    "vbox_text = ipywidgets.VBox([text_0, text_1])"
   ]
  },
  {
   "cell_type": "code",
   "execution_count": 7,
   "id": "a95f77b6",
   "metadata": {},
   "outputs": [
    {
     "name": "stdout",
     "output_type": "stream",
     "text": [
      "opencv_frame_0.png written!\n",
      "opencv_frame_1.png written!\n",
      "opencv_frame_2.png written!\n",
      "opencv_frame_3.png written!\n",
      "opencv_frame_4.png written!\n",
      "opencv_frame_5.png written!\n",
      "opencv_frame_6.png written!\n",
      "opencv_frame_7.png written!\n",
      "opencv_frame_8.png written!\n",
      "opencv_frame_9.png written!\n",
      "opencv_frame_10.png written!\n",
      "opencv_frame_11.png written!\n",
      "opencv_frame_12.png written!\n",
      "opencv_frame_13.png written!\n",
      "opencv_frame_14.png written!\n",
      "15 iterations completed, closing...\n"
     ]
    }
   ],
   "source": [
    "import cv2\n",
    "\n",
    "cam = cv2.VideoCapture(0)\n",
    "\n",
    "cv2.namedWindow(\"test\")\n",
    "\n",
    "img_counter = 0\n",
    "\n",
    "while True:\n",
    "    ret, frame = cam.read()\n",
    "    if not ret:\n",
    "        print(\"failed to grab frame\")\n",
    "        break\n",
    "    cv2.imshow(\"test\", frame)\n",
    "\n",
    "    #k = cv2.waitKey(1)\n",
    "    #if k%256 == 27:\n",
    "        # ESC pressed\n",
    "        #print(\"Escape hit, closing...\")\n",
    "        #break\n",
    "    #elif k%256 == 32:\n",
    "        # SPACE pressed\n",
    "        \n",
    "    cv2.waitKey(2000)\n",
    "    img_name = \"opencv_frame_{}.png\".format(img_counter)\n",
    "    cv2.imwrite(img_name, frame)\n",
    "    print(\"{} written!\".format(img_name))\n",
    "    img_counter += 1\n",
    "    if img_counter > 14:\n",
    "        print(\"15 iterations completed, closing...\")\n",
    "        break\n",
    "\n",
    "cam.release()\n",
    "\n",
    "cv2.destroyAllWindows()"
   ]
  },
  {
   "cell_type": "code",
   "execution_count": 8,
   "id": "6c62c156",
   "metadata": {},
   "outputs": [],
   "source": [
    "FILE_NAME = 'opencv_frame_{}.png'.format(img_counter - 1)\n",
    "FOLDER_PATH = r'C:\\Users\\arnav\\googleapi_proj'"
   ]
  },
  {
   "cell_type": "code",
   "execution_count": 9,
   "id": "c37f7b7e",
   "metadata": {},
   "outputs": [],
   "source": [
    "with io.open(os.path.join(FOLDER_PATH, FILE_NAME), 'rb') as image_file:\n",
    "        content = image_file.read()"
   ]
  },
  {
   "cell_type": "code",
   "execution_count": 10,
   "id": "21046035",
   "metadata": {},
   "outputs": [],
   "source": [
    "image = vision.Image(content=content)"
   ]
  },
  {
   "cell_type": "code",
   "execution_count": 11,
   "id": "2a58b699",
   "metadata": {
    "scrolled": false
   },
   "outputs": [
    {
     "name": "stdout",
     "output_type": "stream",
     "text": [
      "{'confidence': 0.4119689464569092, 'joy': <Likelihood.VERY_UNLIKELY: 1>, 'sorrow': <Likelihood.VERY_UNLIKELY: 1>, 'surprise': <Likelihood.VERY_UNLIKELY: 1>, 'anger': <Likelihood.VERY_UNLIKELY: 1>}\n",
      "[0.4119689464569092, <Likelihood.VERY_UNLIKELY: 1>, <Likelihood.VERY_UNLIKELY: 1>, <Likelihood.VERY_UNLIKELY: 1>, <Likelihood.VERY_UNLIKELY: 1>]\n",
      "[1, 1, 1, 1]\n",
      "1\n",
      "1\n",
      "1\n",
      "1\n",
      "[]\n",
      "{'confidence': 0.5029927492141724, 'joy': <Likelihood.VERY_UNLIKELY: 1>, 'sorrow': <Likelihood.VERY_UNLIKELY: 1>, 'surprise': <Likelihood.VERY_UNLIKELY: 1>, 'anger': <Likelihood.VERY_UNLIKELY: 1>}\n",
      "[0.5029927492141724, <Likelihood.VERY_UNLIKELY: 1>, <Likelihood.VERY_UNLIKELY: 1>, <Likelihood.VERY_UNLIKELY: 1>, <Likelihood.VERY_UNLIKELY: 1>]\n",
      "[1, 1, 1, 1]\n",
      "2\n",
      "2\n",
      "2\n",
      "2\n",
      "[]\n",
      "{'confidence': 0.5724062919616699, 'joy': <Likelihood.VERY_UNLIKELY: 1>, 'sorrow': <Likelihood.VERY_UNLIKELY: 1>, 'surprise': <Likelihood.VERY_UNLIKELY: 1>, 'anger': <Likelihood.VERY_UNLIKELY: 1>}\n",
      "[0.5724062919616699, <Likelihood.VERY_UNLIKELY: 1>, <Likelihood.VERY_UNLIKELY: 1>, <Likelihood.VERY_UNLIKELY: 1>, <Likelihood.VERY_UNLIKELY: 1>]\n",
      "[1, 1, 1, 1]\n",
      "3\n",
      "3\n",
      "3\n",
      "3\n",
      "[]\n",
      "{'confidence': 0.6242755055427551, 'joy': <Likelihood.VERY_UNLIKELY: 1>, 'sorrow': <Likelihood.VERY_UNLIKELY: 1>, 'surprise': <Likelihood.VERY_UNLIKELY: 1>, 'anger': <Likelihood.VERY_UNLIKELY: 1>}\n",
      "[0.6242755055427551, <Likelihood.VERY_UNLIKELY: 1>, <Likelihood.VERY_UNLIKELY: 1>, <Likelihood.VERY_UNLIKELY: 1>, <Likelihood.VERY_UNLIKELY: 1>]\n",
      "[1, 1, 1, 1]\n",
      "4\n",
      "4\n",
      "4\n",
      "4\n",
      "[]\n",
      "{'confidence': 0.8922011852264404, 'joy': <Likelihood.VERY_UNLIKELY: 1>, 'sorrow': <Likelihood.VERY_UNLIKELY: 1>, 'surprise': <Likelihood.VERY_UNLIKELY: 1>, 'anger': <Likelihood.VERY_UNLIKELY: 1>}\n",
      "[0.8922011852264404, <Likelihood.VERY_UNLIKELY: 1>, <Likelihood.VERY_UNLIKELY: 1>, <Likelihood.VERY_UNLIKELY: 1>, <Likelihood.VERY_UNLIKELY: 1>]\n",
      "[1, 1, 1, 1]\n",
      "5\n",
      "5\n",
      "5\n",
      "5\n",
      "[]\n",
      "{'confidence': 0.8545956611633301, 'joy': <Likelihood.VERY_UNLIKELY: 1>, 'sorrow': <Likelihood.VERY_UNLIKELY: 1>, 'surprise': <Likelihood.VERY_UNLIKELY: 1>, 'anger': <Likelihood.VERY_UNLIKELY: 1>}\n",
      "[0.8545956611633301, <Likelihood.VERY_UNLIKELY: 1>, <Likelihood.VERY_UNLIKELY: 1>, <Likelihood.VERY_UNLIKELY: 1>, <Likelihood.VERY_UNLIKELY: 1>]\n",
      "[1, 1, 1, 1]\n",
      "6\n",
      "6\n",
      "6\n",
      "6\n",
      "[]\n",
      "{'confidence': 0.9030663371086121, 'joy': <Likelihood.VERY_UNLIKELY: 1>, 'sorrow': <Likelihood.VERY_UNLIKELY: 1>, 'surprise': <Likelihood.VERY_UNLIKELY: 1>, 'anger': <Likelihood.VERY_UNLIKELY: 1>}\n",
      "[0.9030663371086121, <Likelihood.VERY_UNLIKELY: 1>, <Likelihood.VERY_UNLIKELY: 1>, <Likelihood.VERY_UNLIKELY: 1>, <Likelihood.VERY_UNLIKELY: 1>]\n",
      "[1, 1, 1, 1]\n",
      "7\n",
      "7\n",
      "7\n",
      "7\n",
      "[]\n",
      "{'confidence': 0.9123767018318176, 'joy': <Likelihood.VERY_UNLIKELY: 1>, 'sorrow': <Likelihood.VERY_UNLIKELY: 1>, 'surprise': <Likelihood.VERY_UNLIKELY: 1>, 'anger': <Likelihood.VERY_UNLIKELY: 1>}\n",
      "[0.9123767018318176, <Likelihood.VERY_UNLIKELY: 1>, <Likelihood.VERY_UNLIKELY: 1>, <Likelihood.VERY_UNLIKELY: 1>, <Likelihood.VERY_UNLIKELY: 1>]\n",
      "[1, 1, 1, 1]\n",
      "8\n",
      "8\n",
      "8\n",
      "8\n",
      "[]\n",
      "{'confidence': 0.9044870138168335, 'joy': <Likelihood.VERY_UNLIKELY: 1>, 'sorrow': <Likelihood.VERY_UNLIKELY: 1>, 'surprise': <Likelihood.VERY_UNLIKELY: 1>, 'anger': <Likelihood.VERY_UNLIKELY: 1>}\n",
      "[0.9044870138168335, <Likelihood.VERY_UNLIKELY: 1>, <Likelihood.VERY_UNLIKELY: 1>, <Likelihood.VERY_UNLIKELY: 1>, <Likelihood.VERY_UNLIKELY: 1>]\n",
      "[1, 1, 1, 1]\n",
      "9\n",
      "9\n",
      "9\n",
      "9\n",
      "[]\n",
      "{'confidence': 0.8687554597854614, 'joy': <Likelihood.VERY_UNLIKELY: 1>, 'sorrow': <Likelihood.VERY_UNLIKELY: 1>, 'surprise': <Likelihood.VERY_UNLIKELY: 1>, 'anger': <Likelihood.VERY_UNLIKELY: 1>}\n",
      "[0.8687554597854614, <Likelihood.VERY_UNLIKELY: 1>, <Likelihood.VERY_UNLIKELY: 1>, <Likelihood.VERY_UNLIKELY: 1>, <Likelihood.VERY_UNLIKELY: 1>]\n",
      "[1, 1, 1, 1]\n",
      "10\n",
      "10\n",
      "10\n",
      "10\n",
      "[]\n",
      "{'confidence': 0.210060715675354, 'joy': <Likelihood.VERY_UNLIKELY: 1>, 'sorrow': <Likelihood.VERY_UNLIKELY: 1>, 'surprise': <Likelihood.VERY_UNLIKELY: 1>, 'anger': <Likelihood.VERY_UNLIKELY: 1>}\n",
      "[0.210060715675354, <Likelihood.VERY_UNLIKELY: 1>, <Likelihood.VERY_UNLIKELY: 1>, <Likelihood.VERY_UNLIKELY: 1>, <Likelihood.VERY_UNLIKELY: 1>]\n",
      "[1, 1, 1, 1]\n",
      "11\n",
      "11\n",
      "11\n",
      "11\n",
      "[]\n",
      "{'confidence': 0.25031930208206177, 'joy': <Likelihood.VERY_UNLIKELY: 1>, 'sorrow': <Likelihood.VERY_UNLIKELY: 1>, 'surprise': <Likelihood.VERY_UNLIKELY: 1>, 'anger': <Likelihood.VERY_UNLIKELY: 1>}\n",
      "[0.25031930208206177, <Likelihood.VERY_UNLIKELY: 1>, <Likelihood.VERY_UNLIKELY: 1>, <Likelihood.VERY_UNLIKELY: 1>, <Likelihood.VERY_UNLIKELY: 1>]\n",
      "[1, 1, 1, 1]\n",
      "12\n",
      "12\n",
      "12\n",
      "12\n",
      "[]\n",
      "{'confidence': 0.25031930208206177, 'joy': <Likelihood.VERY_UNLIKELY: 1>, 'sorrow': <Likelihood.VERY_UNLIKELY: 1>, 'surprise': <Likelihood.VERY_UNLIKELY: 1>, 'anger': <Likelihood.VERY_UNLIKELY: 1>}\n",
      "[0.25031930208206177, <Likelihood.VERY_UNLIKELY: 1>, <Likelihood.VERY_UNLIKELY: 1>, <Likelihood.VERY_UNLIKELY: 1>, <Likelihood.VERY_UNLIKELY: 1>]\n",
      "[1, 1, 1, 1]\n",
      "13\n",
      "13\n",
      "13\n",
      "13\n",
      "[]\n",
      "{'confidence': 0.8991276621818542, 'joy': <Likelihood.VERY_UNLIKELY: 1>, 'sorrow': <Likelihood.VERY_UNLIKELY: 1>, 'surprise': <Likelihood.VERY_UNLIKELY: 1>, 'anger': <Likelihood.VERY_UNLIKELY: 1>}\n",
      "[0.8991276621818542, <Likelihood.VERY_UNLIKELY: 1>, <Likelihood.VERY_UNLIKELY: 1>, <Likelihood.VERY_UNLIKELY: 1>, <Likelihood.VERY_UNLIKELY: 1>]\n",
      "[1, 1, 1, 1]\n",
      "14\n",
      "14\n",
      "14\n",
      "14\n",
      "[]\n",
      "{'confidence': 0.7800966501235962, 'joy': <Likelihood.VERY_UNLIKELY: 1>, 'sorrow': <Likelihood.VERY_UNLIKELY: 1>, 'surprise': <Likelihood.VERY_UNLIKELY: 1>, 'anger': <Likelihood.VERY_UNLIKELY: 1>}\n",
      "[0.7800966501235962, <Likelihood.VERY_UNLIKELY: 1>, <Likelihood.VERY_UNLIKELY: 1>, <Likelihood.VERY_UNLIKELY: 1>, <Likelihood.VERY_UNLIKELY: 1>]\n",
      "[1, 1, 1, 1]\n",
      "15\n",
      "15\n",
      "15\n",
      "15\n",
      "[]\n",
      "[15, 15, 15, 15]\n"
     ]
    }
   ],
   "source": [
    "emotionArr = []\n",
    "sumJOY = 0 \n",
    "sumSOR = 0\n",
    "sumSURP = 0\n",
    "sumANG = 0\n",
    "unknownArr = [0, 0, 0, 0]\n",
    "tot_img = 15\n",
    "\n",
    "for x in range(0, 15):\n",
    "    FILE_NAME = 'opencv_frame_{}.png'.format(x)\n",
    "    with io.open(os.path.join(FOLDER_PATH, FILE_NAME), 'rb') as image_file:\n",
    "        content = image_file.read()\n",
    "\n",
    "    image = vision.Image(content=content)\n",
    "    response_face = client.face_detection(image=image)\n",
    "\n",
    "    face_data = []\n",
    "\n",
    "    for face_detection in response_face.face_annotations: \n",
    "        d = { \n",
    "            'confidence': face_detection.detection_confidence, \n",
    "            'joy': face_detection.joy_likelihood, \n",
    "            'sorrow': face_detection.sorrow_likelihood, \n",
    "            'surprise': face_detection.surprise_likelihood, \n",
    "            'anger': face_detection.anger_likelihood \n",
    "            }\n",
    "    print(d)\n",
    "    list2 = list(d.values())\n",
    "    print(list2)\n",
    "    list3 = []\n",
    "        #print(\"111\")\n",
    "        \n",
    "    #print(str(list2[0]))\n",
    "    number = 0\n",
    "    count = 0\n",
    "    for i in list2:\n",
    "        if \".VERY_LIKELY\" in str((list2[count])):\n",
    "            number = number + 5\n",
    "        elif \".POSSIBLE\" in str((list2[count])):\n",
    "            number = number + 3\n",
    "        elif \".VERY_UNLIKELY\" in str((list2[count])):\n",
    "            number = number + 1\n",
    "        elif \".UNLIKELY\" in str((list2[count])):\n",
    "            number = number + 2\n",
    "        elif \".LIKELY\" in str((list2[count])):\n",
    "            number = number + 4\n",
    "        elif \".UNKNOWN\" in str ((list2[count])):\n",
    "            unknown[count] += 1\n",
    "            \n",
    "        \n",
    "        list3.append(number)\n",
    "        \n",
    "        count += 1\n",
    "        number = 0\n",
    "    #print(list3)\n",
    "        #print(\"count: \")\n",
    "        #print(count)\n",
    "    #print(number)\n",
    "        \n",
    "\n",
    "    list3.remove(0)\n",
    "    sumJOY += list3[0]\n",
    "    sumSOR += list3[1]\n",
    "    sumSURP += list3[2]\n",
    "    sumANG += list3[3]\n",
    "    \n",
    "    print(list3)\n",
    "    print(sumJOY)\n",
    "    print(sumSOR) \n",
    "    print(sumSURP)\n",
    "    print(sumANG)\n",
    "    print(emotionArr)\n",
    "\n",
    "\n",
    "emotionArr.append(sumJOY)\n",
    "emotionArr.append(sumSOR)\n",
    "emotionArr.append(sumSURP)\n",
    "emotionArr.append(sumANG)\n",
    "print(emotionArr)\n",
    "\n",
    "\n",
    "    "
   ]
  },
  {
   "cell_type": "code",
   "execution_count": 12,
   "id": "bb6a854c",
   "metadata": {},
   "outputs": [
    {
     "name": "stdout",
     "output_type": "stream",
     "text": [
      "1.0\n",
      "1.0\n",
      "1.0\n",
      "1.0\n"
     ]
    }
   ],
   "source": [
    "joy_avg = emotionArr[0] / (tot_img - unknownArr[0])\n",
    "print(joy_avg)\n",
    "sor_avg = emotionArr[1] / (tot_img - unknownArr[1])\n",
    "print(sor_avg)\n",
    "surp_avg = emotionArr[2] / (tot_img - unknownArr[2])\n",
    "print(surp_avg)\n",
    "ang_avg = emotionArr[3] / (tot_img - unknownArr[3])\n",
    "print(ang_avg)"
   ]
  },
  {
   "cell_type": "code",
   "execution_count": 13,
   "id": "6df26e82",
   "metadata": {},
   "outputs": [
    {
     "name": "stdout",
     "output_type": "stream",
     "text": [
      "0.0\n"
     ]
    }
   ],
   "source": [
    "sentiment_score = (((3* joy_avg) + (-2 * sor_avg) + (surp_avg) + (-2* ang_avg)) / 4)\n",
    "#sentiment_score = (((joy_avg) + (sor_avg) + (surp_avg) + (-ang_avg)) / 4)\n",
    "print(sentiment_score)"
   ]
  },
  {
   "cell_type": "code",
   "execution_count": 14,
   "id": "dc52c2c7",
   "metadata": {},
   "outputs": [
    {
     "name": "stdout",
     "output_type": "stream",
     "text": [
      "User does not show enough emotion to determine recommendation\n"
     ]
    }
   ],
   "source": [
    "if(x<=-14 + x>=-16):\n",
    "    print(\"Very strongly do not recommend\")\n",
    "elif(x<=-10 + x>-14):\n",
    "    print(\"Strongly do not recommend\")\n",
    "elif(x<=-6 + x>-10):\n",
    "    print(\"Do not recommend\")\n",
    "elif(x<=-2 + x>-6):\n",
    "    print(\"Might not recommend\")\n",
    "elif(-2<x + 2>x):\n",
    "    print(\"User does not show enough emotion to determine recommendation\")\n",
    "elif(x<=2 + x>6):\n",
    "    print(\"Might recommend\")\n",
    "elif(x<=6 + x>10):\n",
    "    print(\"Do recommend\")\n",
    "elif(x<=10 + x>14):\n",
    "    print(\"Strongly recommend\")\n",
    "elif(x<=14 + x>=16):\n",
    "    print(\"Very strongly recommend\")"
   ]
  },
  {
   "cell_type": "code",
   "execution_count": 25,
   "id": "bc82c3c5",
   "metadata": {},
   "outputs": [
    {
     "data": {
      "application/vnd.jupyter.widget-view+json": {
       "model_id": "91075e1ec7f9440593d5279712f2aba2",
       "version_major": 2,
       "version_minor": 0
      },
      "text/plain": [
       "HBox(children=(VBox(children=(Label(value='Created by Nishk, Raj, Tanush, Arnav', style=DescriptionStyle(descr…"
      ]
     },
     "metadata": {},
     "output_type": "display_data"
    },
    {
     "data": {
      "text/html": [
       "<iframe width=\"560\" height=\"315\" src=\"https://www.youtube.com/embed/YIZxSZJMU2Y?rel=0&amp;controls=0&amp;showinfo=0\" frameborder=\"30\" allowfullscreen></iframe>"
      ],
      "text/plain": [
       "<IPython.core.display.HTML object>"
      ]
     },
     "execution_count": 25,
     "metadata": {},
     "output_type": "execute_result"
    }
   ],
   "source": [
    "page = ipywidgets.HBox([vbox_headline, vbox_text])\n",
    "display(page)\n",
    "HTML('<iframe width=\"560\" height=\"315\" src=\"https://www.youtube.com/embed/YIZxSZJMU2Y?rel=0&amp;controls=0&amp;showinfo=0\" frameborder=\"30\" allowfullscreen></iframe>')\n",
    "\n"
   ]
  },
  {
   "cell_type": "code",
   "execution_count": 17,
   "id": "c0120624",
   "metadata": {},
   "outputs": [
    {
     "ename": "SyntaxError",
     "evalue": "invalid syntax (4028684716.py, line 1)",
     "output_type": "error",
     "traceback": [
      "\u001b[1;36m  Input \u001b[1;32mIn [17]\u001b[1;36m\u001b[0m\n\u001b[1;33m    C:/Users/arnav/stalker/ --config=/home/jupyter/.jupyter/jupyter_notebook_config.py --Voila.base_url=/subdir/ --VoilaConfiguration.enable_nbextensions=True\u001b[0m\n\u001b[1;37m      ^\u001b[0m\n\u001b[1;31mSyntaxError\u001b[0m\u001b[1;31m:\u001b[0m invalid syntax\n"
     ]
    }
   ],
   "source": []
  },
  {
   "cell_type": "code",
   "execution_count": null,
   "id": "10483e2a",
   "metadata": {},
   "outputs": [],
   "source": []
  },
  {
   "cell_type": "code",
   "execution_count": null,
   "id": "c9b0dc57",
   "metadata": {},
   "outputs": [],
   "source": []
  }
 ],
 "metadata": {
  "kernelspec": {
   "display_name": "Python 3",
   "language": "python",
   "name": "python3"
  },
  "language_info": {
   "codemirror_mode": {
    "name": "ipython",
    "version": 3
   },
   "file_extension": ".py",
   "mimetype": "text/x-python",
   "name": "python",
   "nbconvert_exporter": "python",
   "pygments_lexer": "ipython3",
   "version": "3.8.8"
  }
 },
 "nbformat": 4,
 "nbformat_minor": 5
}
