{
 "cells": [
  {
   "cell_type": "code",
   "execution_count": 19,
   "id": "39390d7e",
   "metadata": {},
   "outputs": [
    {
     "name": "stdout",
     "output_type": "stream",
     "text": [
      "Requirement already satisfied: google-cloud-vision in /Library/Frameworks/Python.framework/Versions/3.10/lib/python3.10/site-packages (2.7.2)\n",
      "Requirement already satisfied: proto-plus>=1.15.0 in /Library/Frameworks/Python.framework/Versions/3.10/lib/python3.10/site-packages (from google-cloud-vision) (1.20.3)\n",
      "Requirement already satisfied: google-api-core[grpc]!=2.0.*,!=2.1.*,!=2.2.*,!=2.3.0,<3.0.0dev,>=1.31.5 in /Library/Frameworks/Python.framework/Versions/3.10/lib/python3.10/site-packages (from google-cloud-vision) (2.7.1)\n",
      "Requirement already satisfied: googleapis-common-protos<2.0dev,>=1.52.0 in /Library/Frameworks/Python.framework/Versions/3.10/lib/python3.10/site-packages (from google-api-core[grpc]!=2.0.*,!=2.1.*,!=2.2.*,!=2.3.0,<3.0.0dev,>=1.31.5->google-cloud-vision) (1.56.0)\n",
      "Requirement already satisfied: requests<3.0.0dev,>=2.18.0 in /Library/Frameworks/Python.framework/Versions/3.10/lib/python3.10/site-packages (from google-api-core[grpc]!=2.0.*,!=2.1.*,!=2.2.*,!=2.3.0,<3.0.0dev,>=1.31.5->google-cloud-vision) (2.27.1)\n",
      "Requirement already satisfied: google-auth<3.0dev,>=1.25.0 in /Library/Frameworks/Python.framework/Versions/3.10/lib/python3.10/site-packages (from google-api-core[grpc]!=2.0.*,!=2.1.*,!=2.2.*,!=2.3.0,<3.0.0dev,>=1.31.5->google-cloud-vision) (2.6.3)\n",
      "Requirement already satisfied: protobuf>=3.12.0 in /Library/Frameworks/Python.framework/Versions/3.10/lib/python3.10/site-packages (from google-api-core[grpc]!=2.0.*,!=2.1.*,!=2.2.*,!=2.3.0,<3.0.0dev,>=1.31.5->google-cloud-vision) (3.20.0)\n",
      "Requirement already satisfied: grpcio-status<2.0dev,>=1.33.2 in /Library/Frameworks/Python.framework/Versions/3.10/lib/python3.10/site-packages (from google-api-core[grpc]!=2.0.*,!=2.1.*,!=2.2.*,!=2.3.0,<3.0.0dev,>=1.31.5->google-cloud-vision) (1.44.0)\n",
      "Requirement already satisfied: grpcio<2.0dev,>=1.33.2 in /Library/Frameworks/Python.framework/Versions/3.10/lib/python3.10/site-packages (from google-api-core[grpc]!=2.0.*,!=2.1.*,!=2.2.*,!=2.3.0,<3.0.0dev,>=1.31.5->google-cloud-vision) (1.44.0)\n",
      "Requirement already satisfied: cachetools<6.0,>=2.0.0 in /Library/Frameworks/Python.framework/Versions/3.10/lib/python3.10/site-packages (from google-auth<3.0dev,>=1.25.0->google-api-core[grpc]!=2.0.*,!=2.1.*,!=2.2.*,!=2.3.0,<3.0.0dev,>=1.31.5->google-cloud-vision) (5.0.0)\n",
      "Requirement already satisfied: pyasn1-modules>=0.2.1 in /Library/Frameworks/Python.framework/Versions/3.10/lib/python3.10/site-packages (from google-auth<3.0dev,>=1.25.0->google-api-core[grpc]!=2.0.*,!=2.1.*,!=2.2.*,!=2.3.0,<3.0.0dev,>=1.31.5->google-cloud-vision) (0.2.8)\n",
      "Requirement already satisfied: six>=1.9.0 in /Library/Frameworks/Python.framework/Versions/3.10/lib/python3.10/site-packages (from google-auth<3.0dev,>=1.25.0->google-api-core[grpc]!=2.0.*,!=2.1.*,!=2.2.*,!=2.3.0,<3.0.0dev,>=1.31.5->google-cloud-vision) (1.16.0)\n",
      "Requirement already satisfied: rsa<5,>=3.1.4 in /Library/Frameworks/Python.framework/Versions/3.10/lib/python3.10/site-packages (from google-auth<3.0dev,>=1.25.0->google-api-core[grpc]!=2.0.*,!=2.1.*,!=2.2.*,!=2.3.0,<3.0.0dev,>=1.31.5->google-cloud-vision) (4.8)\n",
      "Requirement already satisfied: certifi>=2017.4.17 in /Library/Frameworks/Python.framework/Versions/3.10/lib/python3.10/site-packages (from requests<3.0.0dev,>=2.18.0->google-api-core[grpc]!=2.0.*,!=2.1.*,!=2.2.*,!=2.3.0,<3.0.0dev,>=1.31.5->google-cloud-vision) (2021.10.8)\n",
      "Requirement already satisfied: charset-normalizer~=2.0.0 in /Library/Frameworks/Python.framework/Versions/3.10/lib/python3.10/site-packages (from requests<3.0.0dev,>=2.18.0->google-api-core[grpc]!=2.0.*,!=2.1.*,!=2.2.*,!=2.3.0,<3.0.0dev,>=1.31.5->google-cloud-vision) (2.0.12)\n",
      "Requirement already satisfied: urllib3<1.27,>=1.21.1 in /Library/Frameworks/Python.framework/Versions/3.10/lib/python3.10/site-packages (from requests<3.0.0dev,>=2.18.0->google-api-core[grpc]!=2.0.*,!=2.1.*,!=2.2.*,!=2.3.0,<3.0.0dev,>=1.31.5->google-cloud-vision) (1.26.9)\n",
      "Requirement already satisfied: idna<4,>=2.5 in /Library/Frameworks/Python.framework/Versions/3.10/lib/python3.10/site-packages (from requests<3.0.0dev,>=2.18.0->google-api-core[grpc]!=2.0.*,!=2.1.*,!=2.2.*,!=2.3.0,<3.0.0dev,>=1.31.5->google-cloud-vision) (3.3)\n",
      "Requirement already satisfied: pyasn1<0.5.0,>=0.4.6 in /Library/Frameworks/Python.framework/Versions/3.10/lib/python3.10/site-packages (from pyasn1-modules>=0.2.1->google-auth<3.0dev,>=1.25.0->google-api-core[grpc]!=2.0.*,!=2.1.*,!=2.2.*,!=2.3.0,<3.0.0dev,>=1.31.5->google-cloud-vision) (0.4.8)\n",
      "Note: you may need to restart the kernel to use updated packages.\n"
     ]
    }
   ],
   "source": [
    "pip install google-cloud-vision\n"
   ]
  },
  {
   "cell_type": "code",
   "execution_count": 31,
   "id": "a8295a17",
   "metadata": {},
   "outputs": [],
   "source": [
    "import os\n",
    "import io\n",
    "\n",
    "from google.cloud import vision\n",
    "from google.cloud.vision_v1 import types\n",
    "import http.client"
   ]
  },
  {
   "cell_type": "code",
   "execution_count": 32,
   "id": "ca87e303",
   "metadata": {},
   "outputs": [],
   "source": [
    "os.environ['GOOGLE_APPLICATION_CREDENTIALS'] = 'tcnjhack-351c09114ab7.json'"
   ]
  },
  {
   "cell_type": "code",
   "execution_count": 33,
   "id": "40c5bc80",
   "metadata": {},
   "outputs": [],
   "source": [
    "client = vision.ImageAnnotatorClient()"
   ]
  },
  {
   "cell_type": "code",
   "execution_count": 34,
   "id": "a95f77b6",
   "metadata": {},
   "outputs": [],
   "source": [
    "FILE_NAME = 'TestImage.jpeg'"
   ]
  },
  {
   "cell_type": "code",
   "execution_count": 35,
   "id": "6c62c156",
   "metadata": {},
   "outputs": [],
   "source": [
    "FOLDER_PATH = r'/Users/rajshah/Documents'"
   ]
  },
  {
   "cell_type": "code",
   "execution_count": 36,
   "id": "c37f7b7e",
   "metadata": {},
   "outputs": [],
   "source": [
    "with io.open(os.path.join(FOLDER_PATH, FILE_NAME), 'rb') as image_file:\n",
    "        content = image_file.read()"
   ]
  },
  {
   "cell_type": "code",
   "execution_count": 38,
   "id": "21046035",
   "metadata": {},
   "outputs": [],
   "source": [
    "image = vision.Image(content=content)"
   ]
  },
  {
   "cell_type": "code",
   "execution_count": null,
   "id": "c2e62b59",
   "metadata": {},
   "outputs": [],
   "source": []
  },
  {
   "cell_type": "code",
   "execution_count": 39,
   "id": "9eeae364",
   "metadata": {},
   "outputs": [
    {
     "name": "stdout",
     "output_type": "stream",
     "text": [
      "{'label': 'Smile', 'score': 0.9465373754501343}\n",
      "{'label': 'Event', 'score': 0.7408259510993958}\n",
      "{'label': 'Technology', 'score': 0.7338182926177979}\n",
      "{'label': 'Public speaking', 'score': 0.7240464687347412}\n",
      "{'label': 'Teacher', 'score': 0.7200205326080322}\n",
      "{'label': 'Font', 'score': 0.7125822901725769}\n",
      "{'label': 'Presentation', 'score': 0.708622932434082}\n",
      "{'label': 'Room', 'score': 0.6995046138763428}\n",
      "{'label': 'Blackboard', 'score': 0.6991627812385559}\n",
      "{'label': 'Art', 'score': 0.6965746879577637}\n"
     ]
    }
   ],
   "source": [
    "response_label = client.label_detection(image=image)\n",
    "for label in response_label.label_annotations:\n",
    "    print({\"label\": label.description, \"score\": label.score})"
   ]
  },
  {
   "cell_type": "code",
   "execution_count": 40,
   "id": "ec0d4fdb",
   "metadata": {},
   "outputs": [
    {
     "name": "stdout",
     "output_type": "stream",
     "text": [
      "{'confidence': 0.9723659753799438, 'joy': <Likelihood.VERY_LIKELY: 5>, 'sorrow': <Likelihood.VERY_UNLIKELY: 1>, 'surprise': <Likelihood.VERY_UNLIKELY: 1>, 'anger': <Likelihood.VERY_UNLIKELY: 1>}\n"
     ]
    }
   ],
   "source": [
    "response_face = client.face_detection(image=image)\n",
    "\n",
    "face_data = []\n",
    "\n",
    "for face_detection in response_face.face_annotations:\n",
    "    d = {\n",
    "        'confidence': face_detection.detection_confidence,\n",
    "        'joy': face_detection.joy_likelihood,\n",
    "        'sorrow': face_detection.sorrow_likelihood,\n",
    "        'surprise': face_detection.surprise_likelihood,\n",
    "        'anger': face_detection.anger_likelihood\n",
    "    }\n",
    "    print(d)\n"
   ]
  },
  {
   "cell_type": "code",
   "execution_count": 41,
   "id": "e6b4e8b1",
   "metadata": {},
   "outputs": [
    {
     "name": "stdout",
     "output_type": "stream",
     "text": [
      "{'color': red: 134.0\n",
      "green: 119.0\n",
      "blue: 102.0\n",
      ", 'score': 0.25227710604667664, 'pixel_fraction': 0.20233333110809326}\n",
      "{'color': red: 97.0\n",
      "green: 89.0\n",
      "blue: 84.0\n",
      ", 'score': 0.1810726821422577, 'pixel_fraction': 0.22126667201519012}\n",
      "{'color': red: 253.0\n",
      "green: 248.0\n",
      "blue: 222.0\n",
      ", 'score': 0.057022836059331894, 'pixel_fraction': 0.04506666585803032}\n"
     ]
    }
   ],
   "source": [
    "response_image = client.image_properties(image=image)\n",
    "\n",
    "image_data = []\n",
    "\n",
    "for c in response_image.image_properties_annotation.dominant_colors.colors[:3]:\n",
    "    d = {\n",
    "        'color': c.color,\n",
    "        'score': c.score,\n",
    "        'pixel_fraction': c.pixel_fraction\n",
    "    }\n",
    "    print(d)\n"
   ]
  },
  {
   "cell_type": "code",
   "execution_count": 42,
   "id": "06972965",
   "metadata": {},
   "outputs": [
    {
     "name": "stdout",
     "output_type": "stream",
     "text": [
      "{'text': '%24\\n'}\n",
      "{'text': '%24'}\n"
     ]
    }
   ],
   "source": [
    "response_text = client.text_detection(image=image)\n",
    "\n",
    "for r in response_text.text_annotations:\n",
    "    d = {\n",
    "        'text': r.description\n",
    "    }\n",
    "    print(d)\n"
   ]
  },
  {
   "cell_type": "code",
   "execution_count": null,
   "id": "d206a4ba",
   "metadata": {},
   "outputs": [],
   "source": []
  },
  {
   "cell_type": "code",
   "execution_count": null,
   "id": "6dd1a1c5",
   "metadata": {},
   "outputs": [],
   "source": []
  },
  {
   "cell_type": "code",
   "execution_count": null,
   "id": "a2165587",
   "metadata": {},
   "outputs": [],
   "source": []
  }
 ],
 "metadata": {
  "kernelspec": {
   "display_name": "Python 3 (ipykernel)",
   "language": "python",
   "name": "python3"
  },
  "language_info": {
   "codemirror_mode": {
    "name": "ipython",
    "version": 3
   },
   "file_extension": ".py",
   "mimetype": "text/x-python",
   "name": "python",
   "nbconvert_exporter": "python",
   "pygments_lexer": "ipython3",
   "version": "3.10.4"
  }
 },
 "nbformat": 4,
 "nbformat_minor": 5
}
